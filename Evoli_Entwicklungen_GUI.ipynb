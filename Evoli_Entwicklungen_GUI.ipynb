{
  "nbformat": 4,
  "nbformat_minor": 0,
  "metadata": {
    "colab": {
      "provenance": [],
      "gpuType": "T4",
      "authorship_tag": "ABX9TyMjIbsRHPPuABM3f35D7x/Q",
      "include_colab_link": true
    },
    "kernelspec": {
      "name": "python3",
      "display_name": "Python 3"
    },
    "language_info": {
      "name": "python"
    },
    "accelerator": "GPU",
    "widgets": {
      "application/vnd.jupyter.widget-state+json": {
        "06c2d9bcd6f84ce2836372f886866ff4": {
          "model_module": "@jupyter-widgets/controls",
          "model_name": "VBoxModel",
          "model_module_version": "1.5.0",
          "state": {
            "_dom_classes": [],
            "_model_module": "@jupyter-widgets/controls",
            "_model_module_version": "1.5.0",
            "_model_name": "VBoxModel",
            "_view_count": null,
            "_view_module": "@jupyter-widgets/controls",
            "_view_module_version": "1.5.0",
            "_view_name": "VBoxView",
            "box_style": "",
            "children": [
              "IPY_MODEL_e68c24dd6cae45a9844df2e187e73e6d",
              "IPY_MODEL_33fc1c05639743548df8acc8f8f6d5cc",
              "IPY_MODEL_069183a15ce642798420b00ea75985af",
              "IPY_MODEL_5b3f2203e679457bb622e312fa1a1f7d",
              "IPY_MODEL_e4d83bcbab5b4b65b99c1d6af879d9d7"
            ],
            "layout": "IPY_MODEL_a010338815874fbe9c4cbc4b17d4c61c"
          }
        },
        "e68c24dd6cae45a9844df2e187e73e6d": {
          "model_module": "@jupyter-widgets/controls",
          "model_name": "LabelModel",
          "model_module_version": "1.5.0",
          "state": {
            "_dom_classes": [],
            "_model_module": "@jupyter-widgets/controls",
            "_model_module_version": "1.5.0",
            "_model_name": "LabelModel",
            "_view_count": null,
            "_view_module": "@jupyter-widgets/controls",
            "_view_module_version": "1.5.0",
            "_view_name": "LabelView",
            "description": "",
            "description_tooltip": null,
            "layout": "IPY_MODEL_b805ec5279b34e138c96151c5842e4b7",
            "placeholder": "​",
            "style": "IPY_MODEL_d4e2b4730545482285144cdc353d3be6",
            "value": "Wähle deine Evoli Entwicklung!"
          }
        },
        "33fc1c05639743548df8acc8f8f6d5cc": {
          "model_module": "@jupyter-widgets/controls",
          "model_name": "FileUploadModel",
          "model_module_version": "1.5.0",
          "state": {
            "_counter": 1,
            "_dom_classes": [],
            "_model_module": "@jupyter-widgets/controls",
            "_model_module_version": "1.5.0",
            "_model_name": "FileUploadModel",
            "_view_count": null,
            "_view_module": "@jupyter-widgets/controls",
            "_view_module_version": "1.5.0",
            "_view_name": "FileUploadView",
            "accept": "",
            "button_style": "",
            "data": [
              null
            ],
            "description": "Upload",
            "description_tooltip": null,
            "disabled": false,
            "error": "",
            "icon": "upload",
            "layout": "IPY_MODEL_f5ef09982cc947828d0175b4423f857e",
            "metadata": [
              {
                "name": "IMG_8792 Mittel.jpeg",
                "type": "image/jpeg",
                "size": 70877,
                "lastModified": 1715193041000
              }
            ],
            "multiple": false,
            "style": "IPY_MODEL_99b02fc67f0949ee9ad27e7f0c837027"
          }
        },
        "069183a15ce642798420b00ea75985af": {
          "model_module": "@jupyter-widgets/output",
          "model_name": "OutputModel",
          "model_module_version": "1.0.0",
          "state": {
            "_dom_classes": [],
            "_model_module": "@jupyter-widgets/output",
            "_model_module_version": "1.0.0",
            "_model_name": "OutputModel",
            "_view_count": null,
            "_view_module": "@jupyter-widgets/output",
            "_view_module_version": "1.0.0",
            "_view_name": "OutputView",
            "layout": "IPY_MODEL_d4c645c96c0a4b82ab288ac4d110520c",
            "msg_id": "",
            "outputs": [
              {
                "output_type": "display_data",
                "data": {
                  "text/plain": "<PIL.Image.Image image mode=RGB size=128x96>",
                  "image/png": "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\n"
                },
                "metadata": {}
              }
            ]
          }
        },
        "5b3f2203e679457bb622e312fa1a1f7d": {
          "model_module": "@jupyter-widgets/controls",
          "model_name": "ButtonModel",
          "model_module_version": "1.5.0",
          "state": {
            "_dom_classes": [],
            "_model_module": "@jupyter-widgets/controls",
            "_model_module_version": "1.5.0",
            "_model_name": "ButtonModel",
            "_view_count": null,
            "_view_module": "@jupyter-widgets/controls",
            "_view_module_version": "1.5.0",
            "_view_name": "ButtonView",
            "button_style": "",
            "description": "Classify",
            "disabled": false,
            "icon": "",
            "layout": "IPY_MODEL_72368e00816541e4a0a1b63d41e089b3",
            "style": "IPY_MODEL_7f52a00d02eb47ce8916836cf93ab1e1",
            "tooltip": ""
          }
        },
        "e4d83bcbab5b4b65b99c1d6af879d9d7": {
          "model_module": "@jupyter-widgets/controls",
          "model_name": "LabelModel",
          "model_module_version": "1.5.0",
          "state": {
            "_dom_classes": [],
            "_model_module": "@jupyter-widgets/controls",
            "_model_module_version": "1.5.0",
            "_model_name": "LabelModel",
            "_view_count": null,
            "_view_module": "@jupyter-widgets/controls",
            "_view_module_version": "1.5.0",
            "_view_name": "LabelView",
            "description": "",
            "description_tooltip": null,
            "layout": "IPY_MODEL_811450a39d474c369ad18401fb69956e",
            "placeholder": "​",
            "style": "IPY_MODEL_0eccb04d132d452d9fa81c3d8d4f6eb1",
            "value": "Bestimmung: Pokemon Nachtara; Wahrscheinlichkeit: 0.9998"
          }
        },
        "a010338815874fbe9c4cbc4b17d4c61c": {
          "model_module": "@jupyter-widgets/base",
          "model_name": "LayoutModel",
          "model_module_version": "1.2.0",
          "state": {
            "_model_module": "@jupyter-widgets/base",
            "_model_module_version": "1.2.0",
            "_model_name": "LayoutModel",
            "_view_count": null,
            "_view_module": "@jupyter-widgets/base",
            "_view_module_version": "1.2.0",
            "_view_name": "LayoutView",
            "align_content": null,
            "align_items": null,
            "align_self": null,
            "border": null,
            "bottom": null,
            "display": null,
            "flex": null,
            "flex_flow": null,
            "grid_area": null,
            "grid_auto_columns": null,
            "grid_auto_flow": null,
            "grid_auto_rows": null,
            "grid_column": null,
            "grid_gap": null,
            "grid_row": null,
            "grid_template_areas": null,
            "grid_template_columns": null,
            "grid_template_rows": null,
            "height": null,
            "justify_content": null,
            "justify_items": null,
            "left": null,
            "margin": null,
            "max_height": null,
            "max_width": null,
            "min_height": null,
            "min_width": null,
            "object_fit": null,
            "object_position": null,
            "order": null,
            "overflow": null,
            "overflow_x": null,
            "overflow_y": null,
            "padding": null,
            "right": null,
            "top": null,
            "visibility": null,
            "width": null
          }
        },
        "b805ec5279b34e138c96151c5842e4b7": {
          "model_module": "@jupyter-widgets/base",
          "model_name": "LayoutModel",
          "model_module_version": "1.2.0",
          "state": {
            "_model_module": "@jupyter-widgets/base",
            "_model_module_version": "1.2.0",
            "_model_name": "LayoutModel",
            "_view_count": null,
            "_view_module": "@jupyter-widgets/base",
            "_view_module_version": "1.2.0",
            "_view_name": "LayoutView",
            "align_content": null,
            "align_items": null,
            "align_self": null,
            "border": null,
            "bottom": null,
            "display": null,
            "flex": null,
            "flex_flow": null,
            "grid_area": null,
            "grid_auto_columns": null,
            "grid_auto_flow": null,
            "grid_auto_rows": null,
            "grid_column": null,
            "grid_gap": null,
            "grid_row": null,
            "grid_template_areas": null,
            "grid_template_columns": null,
            "grid_template_rows": null,
            "height": null,
            "justify_content": null,
            "justify_items": null,
            "left": null,
            "margin": null,
            "max_height": null,
            "max_width": null,
            "min_height": null,
            "min_width": null,
            "object_fit": null,
            "object_position": null,
            "order": null,
            "overflow": null,
            "overflow_x": null,
            "overflow_y": null,
            "padding": null,
            "right": null,
            "top": null,
            "visibility": null,
            "width": null
          }
        },
        "d4e2b4730545482285144cdc353d3be6": {
          "model_module": "@jupyter-widgets/controls",
          "model_name": "DescriptionStyleModel",
          "model_module_version": "1.5.0",
          "state": {
            "_model_module": "@jupyter-widgets/controls",
            "_model_module_version": "1.5.0",
            "_model_name": "DescriptionStyleModel",
            "_view_count": null,
            "_view_module": "@jupyter-widgets/base",
            "_view_module_version": "1.2.0",
            "_view_name": "StyleView",
            "description_width": ""
          }
        },
        "f5ef09982cc947828d0175b4423f857e": {
          "model_module": "@jupyter-widgets/base",
          "model_name": "LayoutModel",
          "model_module_version": "1.2.0",
          "state": {
            "_model_module": "@jupyter-widgets/base",
            "_model_module_version": "1.2.0",
            "_model_name": "LayoutModel",
            "_view_count": null,
            "_view_module": "@jupyter-widgets/base",
            "_view_module_version": "1.2.0",
            "_view_name": "LayoutView",
            "align_content": null,
            "align_items": null,
            "align_self": null,
            "border": null,
            "bottom": null,
            "display": null,
            "flex": null,
            "flex_flow": null,
            "grid_area": null,
            "grid_auto_columns": null,
            "grid_auto_flow": null,
            "grid_auto_rows": null,
            "grid_column": null,
            "grid_gap": null,
            "grid_row": null,
            "grid_template_areas": null,
            "grid_template_columns": null,
            "grid_template_rows": null,
            "height": null,
            "justify_content": null,
            "justify_items": null,
            "left": null,
            "margin": null,
            "max_height": null,
            "max_width": null,
            "min_height": null,
            "min_width": null,
            "object_fit": null,
            "object_position": null,
            "order": null,
            "overflow": null,
            "overflow_x": null,
            "overflow_y": null,
            "padding": null,
            "right": null,
            "top": null,
            "visibility": null,
            "width": null
          }
        },
        "99b02fc67f0949ee9ad27e7f0c837027": {
          "model_module": "@jupyter-widgets/controls",
          "model_name": "ButtonStyleModel",
          "model_module_version": "1.5.0",
          "state": {
            "_model_module": "@jupyter-widgets/controls",
            "_model_module_version": "1.5.0",
            "_model_name": "ButtonStyleModel",
            "_view_count": null,
            "_view_module": "@jupyter-widgets/base",
            "_view_module_version": "1.2.0",
            "_view_name": "StyleView",
            "button_color": null,
            "font_weight": ""
          }
        },
        "72368e00816541e4a0a1b63d41e089b3": {
          "model_module": "@jupyter-widgets/base",
          "model_name": "LayoutModel",
          "model_module_version": "1.2.0",
          "state": {
            "_model_module": "@jupyter-widgets/base",
            "_model_module_version": "1.2.0",
            "_model_name": "LayoutModel",
            "_view_count": null,
            "_view_module": "@jupyter-widgets/base",
            "_view_module_version": "1.2.0",
            "_view_name": "LayoutView",
            "align_content": null,
            "align_items": null,
            "align_self": null,
            "border": null,
            "bottom": null,
            "display": null,
            "flex": null,
            "flex_flow": null,
            "grid_area": null,
            "grid_auto_columns": null,
            "grid_auto_flow": null,
            "grid_auto_rows": null,
            "grid_column": null,
            "grid_gap": null,
            "grid_row": null,
            "grid_template_areas": null,
            "grid_template_columns": null,
            "grid_template_rows": null,
            "height": null,
            "justify_content": null,
            "justify_items": null,
            "left": null,
            "margin": null,
            "max_height": null,
            "max_width": null,
            "min_height": null,
            "min_width": null,
            "object_fit": null,
            "object_position": null,
            "order": null,
            "overflow": null,
            "overflow_x": null,
            "overflow_y": null,
            "padding": null,
            "right": null,
            "top": null,
            "visibility": null,
            "width": null
          }
        },
        "7f52a00d02eb47ce8916836cf93ab1e1": {
          "model_module": "@jupyter-widgets/controls",
          "model_name": "ButtonStyleModel",
          "model_module_version": "1.5.0",
          "state": {
            "_model_module": "@jupyter-widgets/controls",
            "_model_module_version": "1.5.0",
            "_model_name": "ButtonStyleModel",
            "_view_count": null,
            "_view_module": "@jupyter-widgets/base",
            "_view_module_version": "1.2.0",
            "_view_name": "StyleView",
            "button_color": null,
            "font_weight": ""
          }
        },
        "811450a39d474c369ad18401fb69956e": {
          "model_module": "@jupyter-widgets/base",
          "model_name": "LayoutModel",
          "model_module_version": "1.2.0",
          "state": {
            "_model_module": "@jupyter-widgets/base",
            "_model_module_version": "1.2.0",
            "_model_name": "LayoutModel",
            "_view_count": null,
            "_view_module": "@jupyter-widgets/base",
            "_view_module_version": "1.2.0",
            "_view_name": "LayoutView",
            "align_content": null,
            "align_items": null,
            "align_self": null,
            "border": null,
            "bottom": null,
            "display": null,
            "flex": null,
            "flex_flow": null,
            "grid_area": null,
            "grid_auto_columns": null,
            "grid_auto_flow": null,
            "grid_auto_rows": null,
            "grid_column": null,
            "grid_gap": null,
            "grid_row": null,
            "grid_template_areas": null,
            "grid_template_columns": null,
            "grid_template_rows": null,
            "height": null,
            "justify_content": null,
            "justify_items": null,
            "left": null,
            "margin": null,
            "max_height": null,
            "max_width": null,
            "min_height": null,
            "min_width": null,
            "object_fit": null,
            "object_position": null,
            "order": null,
            "overflow": null,
            "overflow_x": null,
            "overflow_y": null,
            "padding": null,
            "right": null,
            "top": null,
            "visibility": null,
            "width": null
          }
        },
        "0eccb04d132d452d9fa81c3d8d4f6eb1": {
          "model_module": "@jupyter-widgets/controls",
          "model_name": "DescriptionStyleModel",
          "model_module_version": "1.5.0",
          "state": {
            "_model_module": "@jupyter-widgets/controls",
            "_model_module_version": "1.5.0",
            "_model_name": "DescriptionStyleModel",
            "_view_count": null,
            "_view_module": "@jupyter-widgets/base",
            "_view_module_version": "1.2.0",
            "_view_name": "StyleView",
            "description_width": ""
          }
        },
        "d4c645c96c0a4b82ab288ac4d110520c": {
          "model_module": "@jupyter-widgets/base",
          "model_name": "LayoutModel",
          "model_module_version": "1.2.0",
          "state": {
            "_model_module": "@jupyter-widgets/base",
            "_model_module_version": "1.2.0",
            "_model_name": "LayoutModel",
            "_view_count": null,
            "_view_module": "@jupyter-widgets/base",
            "_view_module_version": "1.2.0",
            "_view_name": "LayoutView",
            "align_content": null,
            "align_items": null,
            "align_self": null,
            "border": null,
            "bottom": null,
            "display": null,
            "flex": null,
            "flex_flow": null,
            "grid_area": null,
            "grid_auto_columns": null,
            "grid_auto_flow": null,
            "grid_auto_rows": null,
            "grid_column": null,
            "grid_gap": null,
            "grid_row": null,
            "grid_template_areas": null,
            "grid_template_columns": null,
            "grid_template_rows": null,
            "height": null,
            "justify_content": null,
            "justify_items": null,
            "left": null,
            "margin": null,
            "max_height": null,
            "max_width": null,
            "min_height": null,
            "min_width": null,
            "object_fit": null,
            "object_position": null,
            "order": null,
            "overflow": null,
            "overflow_x": null,
            "overflow_y": null,
            "padding": null,
            "right": null,
            "top": null,
            "visibility": null,
            "width": null
          }
        }
      }
    }
  },
  "cells": [
    {
      "cell_type": "markdown",
      "metadata": {
        "id": "view-in-github",
        "colab_type": "text"
      },
      "source": [
        "<a href=\"https://colab.research.google.com/github/Catrex90/Mini-Projects/blob/main/Evoli_Entwicklungen_GUI.ipynb\" target=\"_parent\"><img src=\"https://colab.research.google.com/assets/colab-badge.svg\" alt=\"Open In Colab\"/></a>"
      ]
    },
    {
      "cell_type": "code",
      "execution_count": 1,
      "metadata": {
        "colab": {
          "base_uri": "https://localhost:8080/"
        },
        "id": "NGapTNAXCkqT",
        "outputId": "48ef14d5-6f97-4ef6-8cfe-1a1bf052e6e4"
      },
      "outputs": [
        {
          "output_type": "stream",
          "name": "stdout",
          "text": [
            "\u001b[2K     \u001b[90m━━━━━━━━━━━━━━━━━━━━━━━━━━━━━━━━━━━━━━━━\u001b[0m \u001b[32m719.8/719.8 kB\u001b[0m \u001b[31m5.3 MB/s\u001b[0m eta \u001b[36m0:00:00\u001b[0m\n",
            "\u001b[2K     \u001b[90m━━━━━━━━━━━━━━━━━━━━━━━━━━━━━━━━━━━━━━━━\u001b[0m \u001b[32m542.0/542.0 kB\u001b[0m \u001b[31m8.9 MB/s\u001b[0m eta \u001b[36m0:00:00\u001b[0m\n",
            "\u001b[2K     \u001b[90m━━━━━━━━━━━━━━━━━━━━━━━━━━━━━━━━━━━━━━━━\u001b[0m \u001b[32m116.3/116.3 kB\u001b[0m \u001b[31m7.9 MB/s\u001b[0m eta \u001b[36m0:00:00\u001b[0m\n",
            "\u001b[2K     \u001b[90m━━━━━━━━━━━━━━━━━━━━━━━━━━━━━━━━━━━━━━━━\u001b[0m \u001b[32m194.1/194.1 kB\u001b[0m \u001b[31m4.6 MB/s\u001b[0m eta \u001b[36m0:00:00\u001b[0m\n",
            "\u001b[2K     \u001b[90m━━━━━━━━━━━━━━━━━━━━━━━━━━━━━━━━━━━━━━━━\u001b[0m \u001b[32m134.8/134.8 kB\u001b[0m \u001b[31m8.6 MB/s\u001b[0m eta \u001b[36m0:00:00\u001b[0m\n",
            "\u001b[2K     \u001b[90m━━━━━━━━━━━━━━━━━━━━━━━━━━━━━━━━━━━━━━━━\u001b[0m \u001b[32m401.2/401.2 kB\u001b[0m \u001b[31m7.2 MB/s\u001b[0m eta \u001b[36m0:00:00\u001b[0m\n",
            "\u001b[2K     \u001b[90m━━━━━━━━━━━━━━━━━━━━━━━━━━━━━━━━━━━━━━━━\u001b[0m \u001b[32m1.6/1.6 MB\u001b[0m \u001b[31m13.2 MB/s\u001b[0m eta \u001b[36m0:00:00\u001b[0m\n",
            "\u001b[?25hMounted at /content/gdrive\n"
          ]
        }
      ],
      "source": [
        "#hide\n",
        "! [ -e /content ] && pip install -Uqq fastbook\n",
        "import fastbook\n",
        "fastbook.setup_book()"
      ]
    },
    {
      "cell_type": "code",
      "source": [
        "#hide\n",
        "from fastbook import *\n",
        "from fastai.vision.widgets import *"
      ],
      "metadata": {
        "id": "hG4H1F-nDRK9"
      },
      "execution_count": 2,
      "outputs": []
    },
    {
      "cell_type": "markdown",
      "source": [
        "## **Mini-Pokedex für Evoli-Entwicklungen!**\n",
        "\n",
        "Kennst du das? Du läufst durchs wilde Gras in Johto und plötzlich gegenet dir eine Enwicklung von Evoli, aber du weißt gar nicht mehr welche es sein könnte? Mit dem Mini-Pokedex für Evoli-Entwicklungen kannst du es heraus finden. Lade ein Bild von einer Evoli-Entwicklung der ersten oder zweiten Generation hoch, und lass dein Bild von dem Mini-Pokedex bestimmen."
      ],
      "metadata": {
        "id": "RoonzQrlDVhM"
      }
    },
    {
      "cell_type": "code",
      "source": [
        "#path = Path()\n",
        "learn_inf = load_learner ('/content/gdrive/MyDrive/models/Eevolutions.pkl', cpu=True)\n",
        "btn_upload = widgets.FileUpload()\n",
        "out_pl = widgets.Output()\n",
        "lbl_pred = widgets.Label()\n",
        "lbl_pred.value = f'Bitte wähle ein Bild von einer Evoli Entwicklung aus Gen. 1 oder Gen. 2 aus'"
      ],
      "metadata": {
        "id": "PQlWyBmaDbTj"
      },
      "execution_count": 3,
      "outputs": []
    },
    {
      "cell_type": "code",
      "source": [
        "btn_run = widgets.Button(description='Classify')"
      ],
      "metadata": {
        "id": "eqRIClJK27g7"
      },
      "execution_count": 12,
      "outputs": []
    },
    {
      "cell_type": "code",
      "source": [
        "def on_click_classify(change):\n",
        "    img = PILImage.create(btn_upload.data[-1])\n",
        "    out_pl.clear_output()\n",
        "    with out_pl: display(img.to_thumb(128,128))\n",
        "    pred,pred_idx,probs = learn_inf.predict(img)\n",
        "    lbl_pred.value = f'Bestimmung: {pred}; Wahrscheinlichkeit: {probs[pred_idx]:.04f}'"
      ],
      "metadata": {
        "id": "Xb5MtjR7EKwW"
      },
      "execution_count": 13,
      "outputs": []
    },
    {
      "cell_type": "code",
      "source": [
        "#btn_upload.observe(on_click, names=[\"data\"])\n",
        "btn_run.on_click(on_click_classify)"
      ],
      "metadata": {
        "id": "Jez7nEsHEPzh"
      },
      "execution_count": 14,
      "outputs": []
    },
    {
      "cell_type": "code",
      "source": [
        "display (VBox([widgets.Label('Wähle deine Evoli Entwicklung!'),\n",
        "      btn_upload, out_pl, btn_run, lbl_pred]))"
      ],
      "metadata": {
        "id": "ZDVKFEsfEm-l",
        "colab": {
          "base_uri": "https://localhost:8080/",
          "height": 241,
          "referenced_widgets": [
            "06c2d9bcd6f84ce2836372f886866ff4",
            "e68c24dd6cae45a9844df2e187e73e6d",
            "33fc1c05639743548df8acc8f8f6d5cc",
            "069183a15ce642798420b00ea75985af",
            "5b3f2203e679457bb622e312fa1a1f7d",
            "e4d83bcbab5b4b65b99c1d6af879d9d7",
            "a010338815874fbe9c4cbc4b17d4c61c",
            "b805ec5279b34e138c96151c5842e4b7",
            "d4e2b4730545482285144cdc353d3be6",
            "f5ef09982cc947828d0175b4423f857e",
            "99b02fc67f0949ee9ad27e7f0c837027",
            "72368e00816541e4a0a1b63d41e089b3",
            "7f52a00d02eb47ce8916836cf93ab1e1",
            "811450a39d474c369ad18401fb69956e",
            "0eccb04d132d452d9fa81c3d8d4f6eb1",
            "d4c645c96c0a4b82ab288ac4d110520c"
          ]
        },
        "outputId": "c661fa55-19a9-46e1-fff1-7b996b0de236"
      },
      "execution_count": 16,
      "outputs": [
        {
          "output_type": "display_data",
          "data": {
            "text/plain": [
              "VBox(children=(Label(value='Wähle deine Evoli Entwicklung!'), FileUpload(value={}, description='Upload'), Outp…"
            ],
            "application/vnd.jupyter.widget-view+json": {
              "version_major": 2,
              "version_minor": 0,
              "model_id": "06c2d9bcd6f84ce2836372f886866ff4"
            }
          },
          "metadata": {}
        },
        {
          "output_type": "display_data",
          "data": {
            "text/plain": [
              "<IPython.core.display.HTML object>"
            ],
            "text/html": [
              "\n",
              "<style>\n",
              "    /* Turns off some styling */\n",
              "    progress {\n",
              "        /* gets rid of default border in Firefox and Opera. */\n",
              "        border: none;\n",
              "        /* Needs to be in here for Safari polyfill so background images work as expected. */\n",
              "        background-size: auto;\n",
              "    }\n",
              "    progress:not([value]), progress:not([value])::-webkit-progress-bar {\n",
              "        background: repeating-linear-gradient(45deg, #7e7e7e, #7e7e7e 10px, #5c5c5c 10px, #5c5c5c 20px);\n",
              "    }\n",
              "    .progress-bar-interrupted, .progress-bar-interrupted::-webkit-progress-bar {\n",
              "        background: #F44336;\n",
              "    }\n",
              "</style>\n"
            ]
          },
          "metadata": {}
        },
        {
          "output_type": "display_data",
          "data": {
            "text/plain": [
              "<IPython.core.display.HTML object>"
            ],
            "text/html": []
          },
          "metadata": {}
        }
      ]
    },
    {
      "cell_type": "code",
      "source": [
        "!pip install voila\n",
        "!jupyter serverextension enable --sys-prefix voila"
      ],
      "metadata": {
        "colab": {
          "base_uri": "https://localhost:8080/"
        },
        "id": "PLyMUaz44egr",
        "outputId": "c3ccdeb5-e9dc-4ece-d63b-4108b28747dc"
      },
      "execution_count": 17,
      "outputs": [
        {
          "output_type": "stream",
          "name": "stdout",
          "text": [
            "Collecting voila\n",
            "  Downloading voila-0.5.6-py3-none-any.whl (3.9 MB)\n",
            "\u001b[2K     \u001b[90m━━━━━━━━━━━━━━━━━━━━━━━━━━━━━━━━━━━━━━━━\u001b[0m \u001b[32m3.9/3.9 MB\u001b[0m \u001b[31m12.5 MB/s\u001b[0m eta \u001b[36m0:00:00\u001b[0m\n",
            "\u001b[?25hCollecting jupyter-client<9,>=7.4.4 (from voila)\n",
            "  Downloading jupyter_client-8.6.1-py3-none-any.whl (105 kB)\n",
            "\u001b[2K     \u001b[90m━━━━━━━━━━━━━━━━━━━━━━━━━━━━━━━━━━━━━━━━\u001b[0m \u001b[32m105.9/105.9 kB\u001b[0m \u001b[31m9.2 MB/s\u001b[0m eta \u001b[36m0:00:00\u001b[0m\n",
            "\u001b[?25hRequirement already satisfied: jupyter-core>=4.11.0 in /usr/local/lib/python3.10/dist-packages (from voila) (5.7.2)\n",
            "Collecting jupyter-server<3,>=2.0.0 (from voila)\n",
            "  Downloading jupyter_server-2.14.0-py3-none-any.whl (383 kB)\n",
            "\u001b[2K     \u001b[90m━━━━━━━━━━━━━━━━━━━━━━━━━━━━━━━━━━━━━━━━\u001b[0m \u001b[32m383.3/383.3 kB\u001b[0m \u001b[31m17.9 MB/s\u001b[0m eta \u001b[36m0:00:00\u001b[0m\n",
            "\u001b[?25hCollecting jupyterlab-server<3,>=2.3.0 (from voila)\n",
            "  Downloading jupyterlab_server-2.27.1-py3-none-any.whl (59 kB)\n",
            "\u001b[2K     \u001b[90m━━━━━━━━━━━━━━━━━━━━━━━━━━━━━━━━━━━━━━━━\u001b[0m \u001b[32m59.3/59.3 kB\u001b[0m \u001b[31m6.3 MB/s\u001b[0m eta \u001b[36m0:00:00\u001b[0m\n",
            "\u001b[?25hCollecting nbclient<0.8,>=0.4.0 (from voila)\n",
            "  Downloading nbclient-0.7.4-py3-none-any.whl (73 kB)\n",
            "\u001b[2K     \u001b[90m━━━━━━━━━━━━━━━━━━━━━━━━━━━━━━━━━━━━━━━━\u001b[0m \u001b[32m73.1/73.1 kB\u001b[0m \u001b[31m7.3 MB/s\u001b[0m eta \u001b[36m0:00:00\u001b[0m\n",
            "\u001b[?25hRequirement already satisfied: nbconvert<8,>=6.4.5 in /usr/local/lib/python3.10/dist-packages (from voila) (6.5.4)\n",
            "Requirement already satisfied: traitlets<6,>=5.0.3 in /usr/local/lib/python3.10/dist-packages (from voila) (5.7.1)\n",
            "Collecting websockets>=9.0 (from voila)\n",
            "  Downloading websockets-12.0-cp310-cp310-manylinux_2_5_x86_64.manylinux1_x86_64.manylinux_2_17_x86_64.manylinux2014_x86_64.whl (130 kB)\n",
            "\u001b[2K     \u001b[90m━━━━━━━━━━━━━━━━━━━━━━━━━━━━━━━━━━━━━━━━\u001b[0m \u001b[32m130.2/130.2 kB\u001b[0m \u001b[31m4.5 MB/s\u001b[0m eta \u001b[36m0:00:00\u001b[0m\n",
            "\u001b[?25hRequirement already satisfied: python-dateutil>=2.8.2 in /usr/local/lib/python3.10/dist-packages (from jupyter-client<9,>=7.4.4->voila) (2.8.2)\n",
            "Requirement already satisfied: pyzmq>=23.0 in /usr/local/lib/python3.10/dist-packages (from jupyter-client<9,>=7.4.4->voila) (24.0.1)\n",
            "Requirement already satisfied: tornado>=6.2 in /usr/local/lib/python3.10/dist-packages (from jupyter-client<9,>=7.4.4->voila) (6.3.3)\n",
            "Requirement already satisfied: platformdirs>=2.5 in /usr/local/lib/python3.10/dist-packages (from jupyter-core>=4.11.0->voila) (4.2.1)\n",
            "Requirement already satisfied: anyio>=3.1.0 in /usr/local/lib/python3.10/dist-packages (from jupyter-server<3,>=2.0.0->voila) (3.7.1)\n",
            "Requirement already satisfied: argon2-cffi>=21.1 in /usr/local/lib/python3.10/dist-packages (from jupyter-server<3,>=2.0.0->voila) (23.1.0)\n",
            "Requirement already satisfied: jinja2>=3.0.3 in /usr/local/lib/python3.10/dist-packages (from jupyter-server<3,>=2.0.0->voila) (3.1.4)\n",
            "Collecting jupyter-events>=0.9.0 (from jupyter-server<3,>=2.0.0->voila)\n",
            "  Downloading jupyter_events-0.10.0-py3-none-any.whl (18 kB)\n",
            "Collecting jupyter-server-terminals>=0.4.4 (from jupyter-server<3,>=2.0.0->voila)\n",
            "  Downloading jupyter_server_terminals-0.5.3-py3-none-any.whl (13 kB)\n",
            "Requirement already satisfied: nbformat>=5.3.0 in /usr/local/lib/python3.10/dist-packages (from jupyter-server<3,>=2.0.0->voila) (5.10.4)\n",
            "Collecting overrides>=5.0 (from jupyter-server<3,>=2.0.0->voila)\n",
            "  Downloading overrides-7.7.0-py3-none-any.whl (17 kB)\n",
            "Requirement already satisfied: packaging>=22.0 in /usr/local/lib/python3.10/dist-packages (from jupyter-server<3,>=2.0.0->voila) (24.0)\n",
            "Requirement already satisfied: prometheus-client>=0.9 in /usr/local/lib/python3.10/dist-packages (from jupyter-server<3,>=2.0.0->voila) (0.20.0)\n",
            "Requirement already satisfied: send2trash>=1.8.2 in /usr/local/lib/python3.10/dist-packages (from jupyter-server<3,>=2.0.0->voila) (1.8.3)\n",
            "Requirement already satisfied: terminado>=0.8.3 in /usr/local/lib/python3.10/dist-packages (from jupyter-server<3,>=2.0.0->voila) (0.18.1)\n",
            "Requirement already satisfied: websocket-client>=1.7 in /usr/local/lib/python3.10/dist-packages (from jupyter-server<3,>=2.0.0->voila) (1.8.0)\n",
            "Requirement already satisfied: babel>=2.10 in /usr/local/lib/python3.10/dist-packages (from jupyterlab-server<3,>=2.3.0->voila) (2.15.0)\n",
            "Collecting json5>=0.9.0 (from jupyterlab-server<3,>=2.3.0->voila)\n",
            "  Downloading json5-0.9.25-py3-none-any.whl (30 kB)\n",
            "Requirement already satisfied: jsonschema>=4.18.0 in /usr/local/lib/python3.10/dist-packages (from jupyterlab-server<3,>=2.3.0->voila) (4.19.2)\n",
            "Requirement already satisfied: requests>=2.31 in /usr/local/lib/python3.10/dist-packages (from jupyterlab-server<3,>=2.3.0->voila) (2.31.0)\n",
            "Requirement already satisfied: lxml in /usr/local/lib/python3.10/dist-packages (from nbconvert<8,>=6.4.5->voila) (4.9.4)\n",
            "Requirement already satisfied: beautifulsoup4 in /usr/local/lib/python3.10/dist-packages (from nbconvert<8,>=6.4.5->voila) (4.12.3)\n",
            "Requirement already satisfied: bleach in /usr/local/lib/python3.10/dist-packages (from nbconvert<8,>=6.4.5->voila) (6.1.0)\n",
            "Requirement already satisfied: defusedxml in /usr/local/lib/python3.10/dist-packages (from nbconvert<8,>=6.4.5->voila) (0.7.1)\n",
            "Requirement already satisfied: entrypoints>=0.2.2 in /usr/local/lib/python3.10/dist-packages (from nbconvert<8,>=6.4.5->voila) (0.4)\n",
            "Requirement already satisfied: jupyterlab-pygments in /usr/local/lib/python3.10/dist-packages (from nbconvert<8,>=6.4.5->voila) (0.3.0)\n",
            "Requirement already satisfied: MarkupSafe>=2.0 in /usr/local/lib/python3.10/dist-packages (from nbconvert<8,>=6.4.5->voila) (2.1.5)\n",
            "Requirement already satisfied: mistune<2,>=0.8.1 in /usr/local/lib/python3.10/dist-packages (from nbconvert<8,>=6.4.5->voila) (0.8.4)\n",
            "Requirement already satisfied: pandocfilters>=1.4.1 in /usr/local/lib/python3.10/dist-packages (from nbconvert<8,>=6.4.5->voila) (1.5.1)\n",
            "Requirement already satisfied: pygments>=2.4.1 in /usr/local/lib/python3.10/dist-packages (from nbconvert<8,>=6.4.5->voila) (2.16.1)\n",
            "Requirement already satisfied: tinycss2 in /usr/local/lib/python3.10/dist-packages (from nbconvert<8,>=6.4.5->voila) (1.3.0)\n",
            "Requirement already satisfied: idna>=2.8 in /usr/local/lib/python3.10/dist-packages (from anyio>=3.1.0->jupyter-server<3,>=2.0.0->voila) (3.7)\n",
            "Requirement already satisfied: sniffio>=1.1 in /usr/local/lib/python3.10/dist-packages (from anyio>=3.1.0->jupyter-server<3,>=2.0.0->voila) (1.3.1)\n",
            "Requirement already satisfied: exceptiongroup in /usr/local/lib/python3.10/dist-packages (from anyio>=3.1.0->jupyter-server<3,>=2.0.0->voila) (1.2.1)\n",
            "Requirement already satisfied: argon2-cffi-bindings in /usr/local/lib/python3.10/dist-packages (from argon2-cffi>=21.1->jupyter-server<3,>=2.0.0->voila) (21.2.0)\n",
            "Requirement already satisfied: attrs>=22.2.0 in /usr/local/lib/python3.10/dist-packages (from jsonschema>=4.18.0->jupyterlab-server<3,>=2.3.0->voila) (23.2.0)\n",
            "Requirement already satisfied: jsonschema-specifications>=2023.03.6 in /usr/local/lib/python3.10/dist-packages (from jsonschema>=4.18.0->jupyterlab-server<3,>=2.3.0->voila) (2023.12.1)\n",
            "Requirement already satisfied: referencing>=0.28.4 in /usr/local/lib/python3.10/dist-packages (from jsonschema>=4.18.0->jupyterlab-server<3,>=2.3.0->voila) (0.35.1)\n",
            "Requirement already satisfied: rpds-py>=0.7.1 in /usr/local/lib/python3.10/dist-packages (from jsonschema>=4.18.0->jupyterlab-server<3,>=2.3.0->voila) (0.18.1)\n",
            "Collecting python-json-logger>=2.0.4 (from jupyter-events>=0.9.0->jupyter-server<3,>=2.0.0->voila)\n",
            "  Downloading python_json_logger-2.0.7-py3-none-any.whl (8.1 kB)\n",
            "Requirement already satisfied: pyyaml>=5.3 in /usr/local/lib/python3.10/dist-packages (from jupyter-events>=0.9.0->jupyter-server<3,>=2.0.0->voila) (6.0.1)\n",
            "Collecting rfc3339-validator (from jupyter-events>=0.9.0->jupyter-server<3,>=2.0.0->voila)\n",
            "  Downloading rfc3339_validator-0.1.4-py2.py3-none-any.whl (3.5 kB)\n",
            "Collecting rfc3986-validator>=0.1.1 (from jupyter-events>=0.9.0->jupyter-server<3,>=2.0.0->voila)\n",
            "  Downloading rfc3986_validator-0.1.1-py2.py3-none-any.whl (4.2 kB)\n",
            "Requirement already satisfied: fastjsonschema>=2.15 in /usr/local/lib/python3.10/dist-packages (from nbformat>=5.3.0->jupyter-server<3,>=2.0.0->voila) (2.19.1)\n",
            "Requirement already satisfied: six>=1.5 in /usr/local/lib/python3.10/dist-packages (from python-dateutil>=2.8.2->jupyter-client<9,>=7.4.4->voila) (1.16.0)\n",
            "Requirement already satisfied: charset-normalizer<4,>=2 in /usr/local/lib/python3.10/dist-packages (from requests>=2.31->jupyterlab-server<3,>=2.3.0->voila) (3.3.2)\n",
            "Requirement already satisfied: urllib3<3,>=1.21.1 in /usr/local/lib/python3.10/dist-packages (from requests>=2.31->jupyterlab-server<3,>=2.3.0->voila) (2.0.7)\n",
            "Requirement already satisfied: certifi>=2017.4.17 in /usr/local/lib/python3.10/dist-packages (from requests>=2.31->jupyterlab-server<3,>=2.3.0->voila) (2024.2.2)\n",
            "Requirement already satisfied: ptyprocess in /usr/local/lib/python3.10/dist-packages (from terminado>=0.8.3->jupyter-server<3,>=2.0.0->voila) (0.7.0)\n",
            "Requirement already satisfied: soupsieve>1.2 in /usr/local/lib/python3.10/dist-packages (from beautifulsoup4->nbconvert<8,>=6.4.5->voila) (2.5)\n",
            "Requirement already satisfied: webencodings in /usr/local/lib/python3.10/dist-packages (from bleach->nbconvert<8,>=6.4.5->voila) (0.5.1)\n",
            "Collecting fqdn (from jsonschema>=4.18.0->jupyterlab-server<3,>=2.3.0->voila)\n",
            "  Downloading fqdn-1.5.1-py3-none-any.whl (9.1 kB)\n",
            "Collecting isoduration (from jsonschema>=4.18.0->jupyterlab-server<3,>=2.3.0->voila)\n",
            "  Downloading isoduration-20.11.0-py3-none-any.whl (11 kB)\n",
            "Collecting jsonpointer>1.13 (from jsonschema>=4.18.0->jupyterlab-server<3,>=2.3.0->voila)\n",
            "  Downloading jsonpointer-2.4-py2.py3-none-any.whl (7.8 kB)\n",
            "Collecting uri-template (from jsonschema>=4.18.0->jupyterlab-server<3,>=2.3.0->voila)\n",
            "  Downloading uri_template-1.3.0-py3-none-any.whl (11 kB)\n",
            "Requirement already satisfied: webcolors>=1.11 in /usr/local/lib/python3.10/dist-packages (from jsonschema>=4.18.0->jupyterlab-server<3,>=2.3.0->voila) (1.13)\n",
            "Requirement already satisfied: cffi>=1.0.1 in /usr/local/lib/python3.10/dist-packages (from argon2-cffi-bindings->argon2-cffi>=21.1->jupyter-server<3,>=2.0.0->voila) (1.16.0)\n",
            "Requirement already satisfied: pycparser in /usr/local/lib/python3.10/dist-packages (from cffi>=1.0.1->argon2-cffi-bindings->argon2-cffi>=21.1->jupyter-server<3,>=2.0.0->voila) (2.22)\n",
            "Collecting arrow>=0.15.0 (from isoduration->jsonschema>=4.18.0->jupyterlab-server<3,>=2.3.0->voila)\n",
            "  Downloading arrow-1.3.0-py3-none-any.whl (66 kB)\n",
            "\u001b[2K     \u001b[90m━━━━━━━━━━━━━━━━━━━━━━━━━━━━━━━━━━━━━━━━\u001b[0m \u001b[32m66.4/66.4 kB\u001b[0m \u001b[31m6.9 MB/s\u001b[0m eta \u001b[36m0:00:00\u001b[0m\n",
            "\u001b[?25hCollecting types-python-dateutil>=2.8.10 (from arrow>=0.15.0->isoduration->jsonschema>=4.18.0->jupyterlab-server<3,>=2.3.0->voila)\n",
            "  Downloading types_python_dateutil-2.9.0.20240316-py3-none-any.whl (9.7 kB)\n",
            "Installing collected packages: websockets, uri-template, types-python-dateutil, rfc3986-validator, rfc3339-validator, python-json-logger, overrides, jsonpointer, json5, fqdn, jupyter-server-terminals, jupyter-client, arrow, isoduration, nbclient, jupyter-events, jupyter-server, jupyterlab-server, voila\n",
            "  Attempting uninstall: jupyter-client\n",
            "    Found existing installation: jupyter-client 6.1.12\n",
            "    Uninstalling jupyter-client-6.1.12:\n",
            "      Successfully uninstalled jupyter-client-6.1.12\n",
            "  Attempting uninstall: nbclient\n",
            "    Found existing installation: nbclient 0.10.0\n",
            "    Uninstalling nbclient-0.10.0:\n",
            "      Successfully uninstalled nbclient-0.10.0\n",
            "  Attempting uninstall: jupyter-server\n",
            "    Found existing installation: jupyter-server 1.24.0\n",
            "    Uninstalling jupyter-server-1.24.0:\n",
            "      Successfully uninstalled jupyter-server-1.24.0\n",
            "\u001b[31mERROR: pip's dependency resolver does not currently take into account all the packages that are installed. This behaviour is the source of the following dependency conflicts.\n",
            "notebook 6.5.5 requires jupyter-client<8,>=5.3.4, but you have jupyter-client 8.6.1 which is incompatible.\u001b[0m\u001b[31m\n",
            "\u001b[0mSuccessfully installed arrow-1.3.0 fqdn-1.5.1 isoduration-20.11.0 json5-0.9.25 jsonpointer-2.4 jupyter-client-8.6.1 jupyter-events-0.10.0 jupyter-server-2.14.0 jupyter-server-terminals-0.5.3 jupyterlab-server-2.27.1 nbclient-0.7.4 overrides-7.7.0 python-json-logger-2.0.7 rfc3339-validator-0.1.4 rfc3986-validator-0.1.1 types-python-dateutil-2.9.0.20240316 uri-template-1.3.0 voila-0.5.6 websockets-12.0\n",
            "Enabling: voila\n",
            "- Writing config: /usr/etc/jupyter\n",
            "    - Validating...\n",
            "      voila 0.5.6 \u001b[32mOK\u001b[0m\n"
          ]
        }
      ]
    }
  ]
}